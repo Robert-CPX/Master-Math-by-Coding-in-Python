{
  "cells": [
    {
      "cell_type": "markdown",
      "metadata": {
        "id": "XH829SZ6AfVp"
      },
      "source": [
        "# BUG HUNT!"
      ]
    },
    {
      "cell_type": "code",
      "execution_count": 2,
      "metadata": {
        "id": "EuhRqw4KAfVq"
      },
      "outputs": [],
      "source": [
        "from sympy.abc import x\n",
        "\n",
        "x = 4\n"
      ]
    },
    {
      "cell_type": "code",
      "execution_count": 3,
      "metadata": {
        "id": "jOYfPPdaAfVq"
      },
      "outputs": [],
      "source": [
        "import sympy as sym\n",
        "a,b,c,d = sym.symbols('a,b,c,d')\n",
        "\n",
        "expr = 4*b + 5*a*a - c**3 + 5*d\n"
      ]
    },
    {
      "cell_type": "code",
      "execution_count": 4,
      "metadata": {
        "id": "VUiFkMnlAfVq",
        "outputId": "d94b065e-5a02-4d6f-900c-70c7312965f8",
        "colab": {
          "base_uri": "https://localhost:8080/"
        }
      },
      "outputs": [
        {
          "output_type": "execute_result",
          "data": {
            "text/plain": [
              "10"
            ]
          },
          "metadata": {},
          "execution_count": 4
        }
      ],
      "source": [
        "import math\n",
        "math.gcd(30,50)"
      ]
    },
    {
      "cell_type": "code",
      "execution_count": 18,
      "metadata": {
        "id": "DBCIg_N8AfVr",
        "outputId": "24bd46c6-d892-47a2-c38e-3c749f19b4db",
        "colab": {
          "base_uri": "https://localhost:8080/"
        }
      },
      "outputs": [
        {
          "output_type": "execute_result",
          "data": {
            "text/plain": [
              "[2]"
            ]
          },
          "metadata": {},
          "execution_count": 18
        }
      ],
      "source": [
        "x = sym.symbols('x')\n",
        "expr = 4*x - 8\n",
        "sym.solve(expr,x)"
      ]
    },
    {
      "cell_type": "code",
      "execution_count": 71,
      "metadata": {
        "id": "Ws3C5-LDAfVr",
        "outputId": "121751d2-7605-4e1e-c35b-f7c403293ebf",
        "colab": {
          "base_uri": "https://localhost:8080/",
          "height": 58
        }
      },
      "outputs": [
        {
          "output_type": "execute_result",
          "data": {
            "text/plain": [
              "[[1, 2], [3, 4]]"
            ],
            "text/latex": "$\\displaystyle \\left[\\begin{matrix}1 & 2\\\\3 & 4\\end{matrix}\\right]$"
          },
          "metadata": {},
          "execution_count": 71
        }
      ],
      "source": [
        "import numpy as np\n",
        "\n",
        "A = sym.sympify(np.array( [ [1,2],[3,4] ] ))\n",
        "# make it look nice\n",
        "A"
      ]
    },
    {
      "cell_type": "code",
      "execution_count": 72,
      "metadata": {
        "id": "E3lleP7NAfVr",
        "outputId": "e32be1f9-2113-4977-fb0d-f838469e871d",
        "colab": {
          "base_uri": "https://localhost:8080/"
        }
      },
      "outputs": [
        {
          "output_type": "stream",
          "name": "stdout",
          "text": [
            "2 was present 2 times.\n",
            "11 was present 1 times.\n"
          ]
        }
      ],
      "source": [
        "fact_dict = sym.factorint(44)\n",
        "\n",
        "for i in fact_dict:\n",
        "    print('%g was present %g times.' %(i,fact_dict[i]))\n"
      ]
    },
    {
      "cell_type": "code",
      "execution_count": 35,
      "metadata": {
        "id": "3TII7gIUAfVr",
        "outputId": "0c245563-b763-4f50-a8c6-63ec71d74e74",
        "colab": {
          "base_uri": "https://localhost:8080/",
          "height": 39
        }
      },
      "outputs": [
        {
          "output_type": "execute_result",
          "data": {
            "text/plain": [
              "20 - 5*y**2"
            ],
            "text/latex": "$\\displaystyle 20 - 5 y^{2}$"
          },
          "metadata": {},
          "execution_count": 35
        }
      ],
      "source": [
        "x,y = sym.symbols('x,y')\n",
        "\n",
        "expr = 4*x - 5*y**2\n",
        "\n",
        "expr.subs({x:5})\n"
      ]
    },
    {
      "cell_type": "code",
      "execution_count": 73,
      "metadata": {
        "id": "6Ptm_3FcAfVr",
        "outputId": "91d378f0-47b7-49f9-b6d7-4258f8992f97",
        "colab": {
          "base_uri": "https://localhost:8080/",
          "height": 51
        }
      },
      "outputs": [
        {
          "output_type": "display_data",
          "data": {
            "text/plain": [
              "5/9"
            ],
            "text/latex": "$\\displaystyle \\frac{5}{9}$"
          },
          "metadata": {}
        }
      ],
      "source": [
        "# goal is to show a fraction\n",
        "from IPython.display import Math\n",
        "f = sym.sympify(5)/9\n",
        "display(f)\n"
      ]
    },
    {
      "cell_type": "code",
      "execution_count": 63,
      "metadata": {
        "id": "uQSUzVY0AfVr",
        "outputId": "1fed3991-9f6e-490b-9e89-41633afd1a3a",
        "colab": {
          "base_uri": "https://localhost:8080/"
        }
      },
      "outputs": [
        {
          "output_type": "execute_result",
          "data": {
            "text/plain": [
              "[5, 3, 7]"
            ]
          },
          "metadata": {},
          "execution_count": 63
        }
      ],
      "source": [
        "# print the last 3 items from a list\n",
        "lst = [1,3,2,5,4,6,7,5,3,7]\n",
        "lst[-3:]\n"
      ]
    },
    {
      "cell_type": "code",
      "execution_count": 64,
      "metadata": {
        "id": "DaHkUqwhAfVr",
        "outputId": "87a4de67-eeb0-414e-a52f-ec1bdc538501",
        "colab": {
          "base_uri": "https://localhost:8080/"
        }
      },
      "outputs": [
        {
          "output_type": "execute_result",
          "data": {
            "text/plain": [
              "[-x/2]"
            ]
          },
          "metadata": {},
          "execution_count": 64
        }
      ],
      "source": [
        "from sympy.abc import x,y\n",
        "\n",
        "expr = 2*x + 4*y\n",
        "\n",
        "# solve for y\n",
        "sym.solve(expr, y)"
      ]
    },
    {
      "cell_type": "code",
      "execution_count": 66,
      "metadata": {
        "id": "FabZT_x2AfVr",
        "outputId": "aaf56489-108b-4cd1-c1e5-a490704235e8",
        "colab": {
          "base_uri": "https://localhost:8080/"
        }
      },
      "outputs": [
        {
          "output_type": "stream",
          "name": "stdout",
          "text": [
            "[[1 2]\n",
            " [3 9]]\n"
          ]
        }
      ],
      "source": [
        "import numpy as np\n",
        "\n",
        "A = np.array( [ [1,2],[3,4] ] )\n",
        "\n",
        "# set the element in the second row, second column to 9\n",
        "A[1,1] = 9\n",
        "print(A)"
      ]
    }
  ],
  "metadata": {
    "kernelspec": {
      "display_name": "Python 3",
      "language": "python",
      "name": "python3"
    },
    "language_info": {
      "codemirror_mode": {
        "name": "ipython",
        "version": 3
      },
      "file_extension": ".py",
      "mimetype": "text/x-python",
      "name": "python",
      "nbconvert_exporter": "python",
      "pygments_lexer": "ipython3",
      "version": "3.7.3"
    },
    "colab": {
      "provenance": []
    }
  },
  "nbformat": 4,
  "nbformat_minor": 0
}